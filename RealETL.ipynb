{
 "cells": [
  {
   "cell_type": "code",
   "execution_count": 1,
   "metadata": {},
   "outputs": [],
   "source": [
    "import pandas as pd \n",
    "import numpy as np \n",
    "from datetime import datetime \n",
    "from sqlalchemy import create_engine\n",
    "import pyodbc\n",
    "import sys\n",
    "import sqlite3"
   ]
  },
  {
   "cell_type": "markdown",
   "metadata": {},
   "source": [
    "### Import file "
   ]
  },
  {
   "cell_type": "code",
   "execution_count": 2,
   "metadata": {},
   "outputs": [],
   "source": [
    "df_import = pd.read_csv('sales.csv')"
   ]
  },
  {
   "cell_type": "code",
   "execution_count": 3,
   "metadata": {},
   "outputs": [
    {
     "data": {
      "text/html": [
       "<div>\n",
       "<style scoped>\n",
       "    .dataframe tbody tr th:only-of-type {\n",
       "        vertical-align: middle;\n",
       "    }\n",
       "\n",
       "    .dataframe tbody tr th {\n",
       "        vertical-align: top;\n",
       "    }\n",
       "\n",
       "    .dataframe thead th {\n",
       "        text-align: right;\n",
       "    }\n",
       "</style>\n",
       "<table border=\"1\" class=\"dataframe\">\n",
       "  <thead>\n",
       "    <tr style=\"text-align: right;\">\n",
       "      <th></th>\n",
       "      <th>Date</th>\n",
       "      <th>Store_ID</th>\n",
       "      <th>Product_ID</th>\n",
       "      <th>Quantity_Sold</th>\n",
       "      <th>Sales_Amount</th>\n",
       "    </tr>\n",
       "  </thead>\n",
       "  <tbody>\n",
       "    <tr>\n",
       "      <th>0</th>\n",
       "      <td>2024-08-01</td>\n",
       "      <td>1</td>\n",
       "      <td>P001</td>\n",
       "      <td>10</td>\n",
       "      <td>150.0</td>\n",
       "    </tr>\n",
       "    <tr>\n",
       "      <th>1</th>\n",
       "      <td>2024-08-01</td>\n",
       "      <td>1</td>\n",
       "      <td>P002</td>\n",
       "      <td>5</td>\n",
       "      <td>75.0</td>\n",
       "    </tr>\n",
       "    <tr>\n",
       "      <th>2</th>\n",
       "      <td>2024-08-01</td>\n",
       "      <td>2</td>\n",
       "      <td>P001</td>\n",
       "      <td>8</td>\n",
       "      <td>120.0</td>\n",
       "    </tr>\n",
       "    <tr>\n",
       "      <th>3</th>\n",
       "      <td>2024-08-02</td>\n",
       "      <td>1</td>\n",
       "      <td>P001</td>\n",
       "      <td>12</td>\n",
       "      <td>180.0</td>\n",
       "    </tr>\n",
       "  </tbody>\n",
       "</table>\n",
       "</div>"
      ],
      "text/plain": [
       "         Date  Store_ID Product_ID  Quantity_Sold  Sales_Amount\n",
       "0  2024-08-01         1       P001             10         150.0\n",
       "1  2024-08-01         1       P002              5          75.0\n",
       "2  2024-08-01         2       P001              8         120.0\n",
       "3  2024-08-02         1       P001             12         180.0"
      ]
     },
     "execution_count": 3,
     "metadata": {},
     "output_type": "execute_result"
    }
   ],
   "source": [
    "df_import"
   ]
  },
  {
   "cell_type": "markdown",
   "metadata": {},
   "source": [
    "### Load into DATALAKE"
   ]
  },
  {
   "cell_type": "code",
   "execution_count": 4,
   "metadata": {},
   "outputs": [
    {
     "ename": "NameError",
     "evalue": "name 'engine' is not defined",
     "output_type": "error",
     "traceback": [
      "\u001b[1;31m---------------------------------------------------------------------------\u001b[0m",
      "\u001b[1;31mNameError\u001b[0m                                 Traceback (most recent call last)",
      "Cell \u001b[1;32mIn[4], line 1\u001b[0m\n\u001b[1;32m----> 1\u001b[0m df_import\u001b[38;5;241m.\u001b[39mto_sql(\u001b[38;5;124m'\u001b[39m\u001b[38;5;124mSalesDataLake\u001b[39m\u001b[38;5;124m'\u001b[39m, con \u001b[38;5;241m=\u001b[39m \u001b[43mengine\u001b[49m, if_exists\u001b[38;5;241m=\u001b[39m \u001b[38;5;124m'\u001b[39m\u001b[38;5;124mappend\u001b[39m\u001b[38;5;124m'\u001b[39m, index \u001b[38;5;241m=\u001b[39m \u001b[38;5;28;01mFalse\u001b[39;00m)\n",
      "\u001b[1;31mNameError\u001b[0m: name 'engine' is not defined"
     ]
    }
   ],
   "source": [
    "conn_lake = pyodbc.connect(\n",
    "    'DRIVER={ODBC Driver 17 for SQL Server};' #look for ODBC in SQL Settings\n",
    "    'SERVER=your_server_name;' # find the server name to input\n",
    "    'DATABASE=your_database_name;' # the database\n",
    "    'UID=your_username;' #the user account\n",
    "    'PWD=your_password' #the password\n",
    ")\n",
    "cursor = conn_lake.cursor()\n",
    "\n",
    "table_name_lake = 'DataLake'\n",
    "cursor.execute(f'''\n",
    "    CREATE TABLE IF NOT EXISTS {table_name_lake} (\n",
    "        Date datetime,\n",
    "        Store_ID INT,\n",
    "        Product_ID VARCHAR(10),\n",
    "        Quantity_Sold INT,\n",
    "        Sales_Amount INT\n",
    "    )\n",
    "''')\n",
    "df_import.to_sql(table_name_lake, conn_lake, if_exists= 'append', index = False)"
   ]
  },
  {
   "cell_type": "markdown",
   "metadata": {},
   "source": [
    "### Transform"
   ]
  },
  {
   "cell_type": "code",
   "execution_count": null,
   "metadata": {},
   "outputs": [],
   "source": [
    "### Ensure datetime format :  YYYY-MM-DD format\n",
    "\n",
    "df_import['Date'] = pd.to_datetime(df_import['Date'], format='%Y-%m-%d')"
   ]
  },
  {
   "cell_type": "code",
   "execution_count": 5,
   "metadata": {},
   "outputs": [],
   "source": [
    "### Handling the missing value in the Quantity Sold and Sale Amount\n",
    "column_have_mising = ['Quantity_Sold','Sales_Amount']\n",
    "df_import[column_have_mising] = df_import[column_have_mising].fillna(0)"
   ]
  },
  {
   "cell_type": "code",
   "execution_count": 53,
   "metadata": {},
   "outputs": [],
   "source": [
    "### Total sale of each store per day\n",
    "df_import['Total_Sale'] = df_import['Quantity_Sold']*df_import['Sales_Amount']"
   ]
  },
  {
   "cell_type": "code",
   "execution_count": 54,
   "metadata": {},
   "outputs": [],
   "source": [
    "### Sale per product\n",
    "df_import['Sales_Per_Product'] = df_import['Sales_Amount']/df_import['Quantity_Sold']"
   ]
  },
  {
   "cell_type": "markdown",
   "metadata": {},
   "source": [
    "### Load to DATAWAREHOUSE"
   ]
  },
  {
   "cell_type": "code",
   "execution_count": null,
   "metadata": {},
   "outputs": [],
   "source": [
    "# Create database\n",
    "conn = pyodbc.connect(\n",
    "    'DRIVER={ODBC Driver 17 for SQL Server};' #look for ODBC in SQL Settings\n",
    "    'SERVER=your_server_name;' # find the server name to input\n",
    "    'DATABASE=your_database_name;' # the database\n",
    "    'UID=your_username;' #the user account\n",
    "    'PWD=your_password' #the password\n",
    ")\n",
    "cursor = conn.cursor()\n",
    "\n",
    "table_name = 'DataWarehouse'\n",
    "cursor.execute(f'''\n",
    "    CREATE TABLE IF NOT EXISTS {table_name} (\n",
    "        Date datetime,\n",
    "        Store_ID INT,\n",
    "        Product_ID VARCHAR(10),\n",
    "        Quantity_Sold INT,\n",
    "        Sales_Amount INT\n",
    "    )\n",
    "''')\n",
    "df_import.to_sql(table_name,conn, if_exists='append', index = False)\n",
    "conn.commit()\n",
    "conn.close()"
   ]
  }
 ],
 "metadata": {
  "kernelspec": {
   "display_name": "envETL",
   "language": "python",
   "name": "python3"
  },
  "language_info": {
   "codemirror_mode": {
    "name": "ipython",
    "version": 3
   },
   "file_extension": ".py",
   "mimetype": "text/x-python",
   "name": "python",
   "nbconvert_exporter": "python",
   "pygments_lexer": "ipython3",
   "version": "3.11.9"
  }
 },
 "nbformat": 4,
 "nbformat_minor": 2
}
